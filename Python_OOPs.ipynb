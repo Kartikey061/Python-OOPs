{
  "nbformat": 4,
  "nbformat_minor": 0,
  "metadata": {
    "colab": {
      "provenance": []
    },
    "kernelspec": {
      "name": "python3",
      "display_name": "Python 3"
    },
    "language_info": {
      "name": "python"
    }
  },
  "cells": [
    {
      "cell_type": "markdown",
      "source": [
        "# Python OOPs"
      ],
      "metadata": {
        "id": "bUpNv-T_bRZO"
      }
    },
    {
      "cell_type": "markdown",
      "source": [
        "1. What is Object-Oriented Programming (OOP)?\n",
        "- OOP is a way of writing programs where we use objects to represent real-life things. Each object has data (variables) and functions or methods.\n",
        "It helps make code reusable, easier to understand, and organized.\n",
        "\n",
        "2. What is a class in OOP?\n",
        "- A class is like a template for creating objects.\n",
        "It defines what data (variables) and actions (methods) an object will have.\n",
        "\n",
        "3. What is an object in OOP?\n",
        "- An object is an instance of a class. It’s like a copy made from the template.\n",
        "Objects store data and can use the methods defined in the class.\n",
        "\n",
        "4. what is the Difference between abstraction and encapsulation?\n",
        "- Abstraction\n",
        "    - Abstraction means hiding the complex details and showing only the necessary features to the user.In example when we use the car, we start the car by the key without paying attention in how the engine works.\n",
        "-Encapsulation\n",
        "    - Encapsulation means binding data and functions together and keeping data safe from direct access. In Python, this is done using private variables (__variable).\n",
        "\n",
        "5. What are dunder methods in Python?\n",
        "- Dunder methods in python are magic methods whose names start and end with double underscores.They are used to perform special operations like object creation or representation.\n",
        "\n",
        "6. Explain the concept of inheritance in OOP.\n",
        "- Inheritance allows a child class to use properties and methods of parent class. It promotes code reusability.\n",
        "\n",
        "7. What is polymorphism in OOP?\n",
        "- Polymorphism means “many forms.” It allows one function or method to behave differently based on the object that calls it.\n",
        "\n",
        "8. How is encapsulation achieved in Python?\n",
        "- Encapsulation is achieved by using private and protected variables in a class.in example :- self.__marks(its a private varriable).\n",
        "\n",
        "9. What is a constructor in Python?\n",
        "- A constructor is a special method used to initialize objects automatically when they are created. In Python, it is written as __init__().\n",
        "\n",
        "11. What is method overloading in Python?\n",
        "- Python doesn’t support true method overloading, but it can be achieved by using default arguments or variable-length arguments.\n",
        "\n",
        "12. What is method overriding in OOP?\n",
        "- Method overriding occurs when a subclass provides a specific implementation of a method already defined in its parent class.\n",
        "\n",
        "13. What is a property decorator in Python?\n",
        "- A property decorator (@property) is used to define getter methods that allow us to access private variables like normal attributes.\n",
        "\n",
        "14. Why is polymorphism important in OOP?\n",
        "- Polymorphism allows flexibility and reusability. It helps in writing code that works with different object types using a common interface — improving scalability and readability of programs.\n",
        "\n",
        "15. What is an abstract class in Python?\n",
        "- An abstract class is a class that cannot be instantiated and is used to define a common interface for subclasses.\n",
        "It is created using the abc module.It import by:-from abc import ABC, abstractmethod\n",
        "\n",
        "16. What are the advantages of OOP?\n",
        "- it makes the codes reusable easily.\n",
        "- we secure our data by encapsulation.\n",
        "- It has Polymorphism and inheritance for flexibility.\n",
        "- The maintenance and debbuging get easier by oop.\n",
        "\n",
        "17. 17. Difference between a class variable and an instance variable\n",
        " - Class variable\tInside class but outside methods\tShared by all objects\tcompany_name = \"DEI\"\n",
        "- Instance variable\tInside methods using self\tUnique for each object\tself.name = \"Kartikey\"\n",
        "\n",
        "18. What is multiple inheritance in Python?\n",
        "- When a class inherits from more than one parent class, it is called multiple inheritance.\n",
        "\n",
        "19. Explain the purpose of __str__ and __repr__ methods in Python\n",
        "- __str__: Used to return a readable string representation of an object.\n",
        "\n",
        "-  __repr__: Used to return a developer-friendly string (used for debugging).\n",
        "\n",
        "20. What is the significance of the super() function in Python?\n",
        "- super() is used in a subclass to call the methods of its parent class. It helps in method overriding and multiple inheritance.\n",
        "\n",
        "21. What is the significance of the __del__ method in Python?\n",
        "\n",
        "- __del__() is a destructor method in Python. It is called automatically when an object is about to be destroyed to free up resources or memory.\n",
        "\n",
        "22. What is the difference between @staticmethod and @classmethod in Python?\n",
        "- Definition\n",
        "-              A static method does not take self or cls as a parameter.\n",
        "-\t            A class method takes cls as the first parameter.\n",
        "- Access\n",
        "-           It cannot access class or instance variables directly.\n",
        "-         It can access and modify class variables.\n",
        "- Usage\n",
        "-\t Used for utility functions that do not depend on class data.\n",
        "-      Used when we need to work with class-level data.\n",
        "\n",
        "23. How does polymorphism work in Python with inheritance?\n",
        "\n",
        "- Polymorphism allows methods in different classes to have the same name but different behavior.\n",
        "In inheritance, the child class can override the parent class method and give its own version.\n",
        "Python decides which method to call based on the object type.\n",
        "\n",
        "24. What is method chaining in Python OOP?\n",
        "\n",
        "- Method chaining means calling multiple methods on the same object in a single line.\n",
        "To achieve this, each method should return self. It makes the code short and readable.\n",
        "\n",
        "25. What is the purpose of the __call__ method in Python?\n",
        "\n",
        "- The __call__() method allows an object to be called like a function.\n",
        "When you use parentheses () after an object, Python automatically calls this method."
      ],
      "metadata": {
        "id": "spQPw0CXOXYi"
      }
    },
    {
      "cell_type": "code",
      "source": [
        "#1. Create a parent class Animal with a method speak() that prints a generic message. Create a child class Dog that overrides the speak() method to print \"Bark!\".\n",
        "class Animal:\n",
        "    def speak(self):\n",
        "        print(\"Generic message\")\n",
        "\n",
        "class Dog(Animal):\n",
        "    def speak(self):\n",
        "        print(\"Bark!\")"
      ],
      "metadata": {
        "id": "XTvqvX_BbONy"
      },
      "execution_count": 20,
      "outputs": []
    },
    {
      "cell_type": "code",
      "source": [
        "#2. Write a program to create an abstract class Shape with a method area(). Derive classes Circle and Rectangle from it and implement the area() method in both.\n",
        "from abc import ABC, abstractmethod\n",
        "\n",
        "class Shape(ABC):\n",
        "    @abstractmethod\n",
        "    def area(self):\n",
        "        pass"
      ],
      "metadata": {
        "id": "MN-mcEEYbvx7"
      },
      "execution_count": 3,
      "outputs": []
    },
    {
      "cell_type": "code",
      "source": [
        "#3. Implement a multi-level inheritance scenario where a class Vehicle has an attribute type. Derive a class Car and further derive a class ElectricCar that adds a battery attribute.\n",
        "# Base class\n",
        "class Vehicle:\n",
        "    def __init__(self, vehicle_type):\n",
        "        self.type = vehicle_type\n",
        "\n",
        "# Derived class from Vehicle\n",
        "class Car(Vehicle):\n",
        "    def __init__(self, vehicle_type, brand):\n",
        "        super().__init__(vehicle_type)\n",
        "        self.brand = brand\n",
        "\n",
        "# Further derived class from Car\n",
        "class ElectricCar(Car):\n",
        "    def __init__(self, vehicle_type, brand, battery_capacity):\n",
        "        super().__init__(vehicle_type, brand)\n",
        "        self.battery = battery_capacity\n",
        "\n",
        "    def display_info(self):\n",
        "        print(\"Vehicle Type:\", self.type)\n",
        "        print(\"Car Brand:\", self.brand)\n",
        "        print(\"Battery Capacity:\", self.battery, \"kWh\")\n",
        "\n",
        "# Creating object of ElectricCar\n",
        "e_car = ElectricCar(\"Four Wheeler\", \"Tesla\", 85)\n",
        "\n",
        "# Displaying details\n",
        "e_car.display_info()\n"
      ],
      "metadata": {
        "colab": {
          "base_uri": "https://localhost:8080/"
        },
        "id": "xDohF_3KcWNg",
        "outputId": "1b44dc4e-9331-4564-e88a-70b8ce73bfde"
      },
      "execution_count": 4,
      "outputs": [
        {
          "output_type": "stream",
          "name": "stdout",
          "text": [
            "Vehicle Type: Four Wheeler\n",
            "Car Brand: Tesla\n",
            "Battery Capacity: 85 kWh\n"
          ]
        }
      ]
    },
    {
      "cell_type": "code",
      "source": [
        "#4. Demonstrate polymorphism by creating a base class Bird with a method fly(). Create two derived classes Sparrow and Penguin that override the fly() method.\n",
        "class Bird:\n",
        "    def fly(self):\n",
        "        print(\"Birds can fly\")\n",
        "\n",
        "class Sparrow(Bird):\n",
        "    def fly(self):\n",
        "        print(\"Sparrows can fly at high speeds\")\n"
      ],
      "metadata": {
        "id": "Izi0iYemc0LC"
      },
      "execution_count": 5,
      "outputs": []
    },
    {
      "cell_type": "code",
      "source": [
        "#5. Write a program to demonstrate encapsulation by creating a class BankAccount with private attributes balance and methods to deposit, withdraw, and check balance.\n",
        "class BankAccount:\n",
        "    def __init__(self, balance):\n",
        "        self.__balance = balance"
      ],
      "metadata": {
        "id": "8covaCaUc00C"
      },
      "execution_count": 6,
      "outputs": []
    },
    {
      "cell_type": "code",
      "source": [
        "#6. Demonstrate runtime polymorphism using a method play() in a base class Instrument. Derive classes Guitar and Piano that implement their own version of play().\n",
        "class Instrument:\n",
        "    def play(self):\n",
        "        print(\"Generic instrument playing\")\n",
        "\n",
        "class Guitar(Instrument):\n",
        "    def play(self):\n",
        "        print(\"Guitar is playing\")"
      ],
      "metadata": {
        "id": "4bGJPguUc3Qw"
      },
      "execution_count": 7,
      "outputs": []
    },
    {
      "cell_type": "code",
      "source": [
        "#7. Create a class MathOperations with a class method add_numbers() to add two numbers and a static method subtract_numbers() to subtract two numbers.\n",
        "class MathOperations:\n",
        "    @classmethod\n",
        "    def add_numbers(cls, a, b):\n",
        "        return a + b\n",
        "\n",
        "    @staticmethod\n",
        "    def subtract_numbers(a, b):\n",
        "        return a - b"
      ],
      "metadata": {
        "id": "BxaroCJ7c4Bw"
      },
      "execution_count": 8,
      "outputs": []
    },
    {
      "cell_type": "code",
      "source": [
        "#8. Implement a class Person with a class method to count the total number of persons created.\n",
        "class Person:\n",
        "    count = 0\n",
        "\n",
        "    def __init__(self):\n",
        "        Person.count += 1\n",
        "\n",
        "    @classmethod\n",
        "    def get_count(cls):\n",
        "        return cls.count"
      ],
      "metadata": {
        "id": "sOC_1V-Yc4wf"
      },
      "execution_count": 9,
      "outputs": []
    },
    {
      "cell_type": "code",
      "source": [
        "#9. Write a class Fraction with attributes numerator and denominator. Override the str method to display the fraction as \"numerator/denominator\".\n",
        "class Fraction:\n",
        "    def __init__(self, numerator, denominator):\n",
        "        self.numerator = numerator\n",
        "        self.denominator = denominator\n",
        "\n",
        "    def __str__(self):\n",
        "        return f\"{self.numerator}/{self.denominator}\""
      ],
      "metadata": {
        "id": "Qy6kzU2cc5jX"
      },
      "execution_count": 10,
      "outputs": []
    },
    {
      "cell_type": "code",
      "source": [
        "#10. Demonstrate operator overloading by creating a class Vector and overriding the add method to add two vectors.\n",
        "class Vector:\n",
        "    def __init__(self, x, y):\n",
        "        self.x = x\n",
        "        self.y = y\n",
        "\n",
        "    def __add__(self, other):\n",
        "        return Vector(self.x + other.x, self.y + other.y)"
      ],
      "metadata": {
        "id": "zohOlN0Jc58T"
      },
      "execution_count": 11,
      "outputs": []
    },
    {
      "cell_type": "code",
      "source": [
        "#11. Create a class Person with attributes name and age. Add a method greet() that prints \"Hello, my name is {name} and I am {age} years old.\"\n",
        "class Person:\n",
        "    def __init__(self, name, age):\n",
        "        self.name = name\n",
        "        self.age = age"
      ],
      "metadata": {
        "id": "vK1yk9B_c6Vs"
      },
      "execution_count": 12,
      "outputs": []
    },
    {
      "cell_type": "code",
      "source": [
        "#12. Implement a class Student with attributes name and grades. Create a method average_grade() to compute the average of the grades.\n",
        "class Student:\n",
        "    def __init__(self, name, grades):\n",
        "        self.name = name\n",
        "        self.grades = grades"
      ],
      "metadata": {
        "id": "97y_Dg09c6o3"
      },
      "execution_count": 13,
      "outputs": []
    },
    {
      "cell_type": "code",
      "source": [
        "#13. Create a class Rectangle with methods set_dimensions() to set the dimensions and area() to calculate the area.\n",
        "class Rectangle:\n",
        "    def __init__(self):\n",
        "        self.length = 0\n",
        "        self.width = 0\n",
        "\n",
        "    def set_dimensions(self, length, width):\n",
        "        self.length = length\n",
        "        self.width = width"
      ],
      "metadata": {
        "id": "qzLOX1H4c67L"
      },
      "execution_count": 14,
      "outputs": []
    },
    {
      "cell_type": "code",
      "source": [
        "#14. Create a class Employee with a method calculate_salary() that computes the salary based on hours worked and hourly rate. Create a derived class Manager that adds a bonus to the salary\n",
        "class Employee:\n",
        "    def __init__(self, name, hours_worked, hourly_rate):\n",
        "        self.name = name\n",
        "        self.hours_worked = hours_worked\n",
        "        self.hourly_rate = hourly_rate"
      ],
      "metadata": {
        "id": "8mbnszEnc7Os"
      },
      "execution_count": 15,
      "outputs": []
    },
    {
      "cell_type": "code",
      "source": [
        "#15. Create a class Product with attributes name, price, and quantity. Implement a method total_price() that calculates the total price of the product.\n",
        "class Product:\n",
        "    def __init__(self, name, price, quantity):\n",
        "        self.name = name\n",
        "        self.price = price\n",
        "        self.quantity = quantity"
      ],
      "metadata": {
        "id": "MuwrRneIc8Bd"
      },
      "execution_count": 16,
      "outputs": []
    },
    {
      "cell_type": "code",
      "source": [
        "#16. Create a class Animal with an abstract method sound(). Create two derived classes Cow and Sheep that implement the sound() method.\n",
        "from abc import ABC, abstractmethod\n",
        "\n",
        "class Animal(ABC):\n",
        "    @abstractmethod\n",
        "    def sound(self):\n",
        "        pass"
      ],
      "metadata": {
        "id": "j5QYuTG0c8TR"
      },
      "execution_count": 17,
      "outputs": []
    },
    {
      "cell_type": "code",
      "source": [
        "#17. Create a class Book with attributes title, author, and year_published. Add a method get_book_info() that returns a formatted string with the book's details.\n",
        "class Book:\n",
        "    def __init__(self, title, author, year_published):\n",
        "        self.title = title\n",
        "        self.author = author\n",
        "        self.year_published = year_published"
      ],
      "metadata": {
        "id": "1p3yA8Gtd68A"
      },
      "execution_count": 18,
      "outputs": []
    },
    {
      "cell_type": "code",
      "source": [
        "#18. Create a class House with attributes address and price. Create a derived class Mansion that adds an attribute number_of_rooms.\n",
        "class House:\n",
        "    def __init__(self, address, price):\n",
        "        self.address = address\n",
        "        self.price = price"
      ],
      "metadata": {
        "id": "2dyjl_OHd9Dg"
      },
      "execution_count": 19,
      "outputs": []
    }
  ]
}